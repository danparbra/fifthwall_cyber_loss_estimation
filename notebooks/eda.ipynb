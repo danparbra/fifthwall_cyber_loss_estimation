{
 "cells": [
  {
   "attachments": {},
   "cell_type": "markdown",
   "id": "1e233234",
   "metadata": {},
   "source": [
    "## Student Performance Indicator\n"
   ]
  },
  {
   "cell_type": "markdown",
   "id": "62e05101",
   "metadata": {},
   "source": [
    "#### Life cycle of Machine learning Project\n",
    "\n",
    "- Understanding the Problem Statement\n",
    "- Data Collection\n",
    "- Data Checks to perform\n",
    "- Exploratory data analysis\n",
    "- Data Pre-Processing\n",
    "- Model Training\n",
    "- Choose best model"
   ]
  },
  {
   "cell_type": "markdown",
   "id": "dfcea981",
   "metadata": {},
   "source": [
    "### 1) Problem statement\n",
    "- This project understands how financial losses are explained by Cyber Security threats. \n",
    "\n",
    "### 2) Data Collection\n",
    "- Dataset Source - https://www.kaggle.com/datasets/gojoyuno/cyber-breach-analysis-dataset/\n",
    "- The data consists of 18 column and 1000 rows."
   ]
  },
  {
   "cell_type": "markdown",
   "id": "15b1355f",
   "metadata": {},
   "source": [
    "### 2.1 Import Data and Required Packages\n",
    "####  Importing Pandas, Numpy, Matplotlib, Seaborn and Warings Library."
   ]
  },
  {
   "cell_type": "code",
   "execution_count": 12,
   "id": "7eaae1d7",
   "metadata": {},
   "outputs": [],
   "source": [
    "import numpy as np\n",
    "import pandas as pd\n",
    "import seaborn as sns\n",
    "import matplotlib.pyplot as plt\n",
    "%matplotlib inline\n",
    "import warnings\n",
    "warnings.filterwarnings('ignore')"
   ]
  },
  {
   "cell_type": "markdown",
   "id": "3caeb0bb",
   "metadata": {},
   "source": [
    "#### Import the CSV Data as Pandas DataFrame"
   ]
  },
  {
   "cell_type": "code",
   "execution_count": 13,
   "id": "57907087",
   "metadata": {},
   "outputs": [],
   "source": [
    "df = pd.read_csv('./data/breached_services_info.csv')"
   ]
  },
  {
   "cell_type": "markdown",
   "id": "92c8fd8a",
   "metadata": {},
   "source": [
    "#### Show Top 5 Records"
   ]
  },
  {
   "cell_type": "code",
   "execution_count": 14,
   "id": "7d1a2a0b",
   "metadata": {},
   "outputs": [
    {
     "data": {
      "text/html": [
       "<div>\n",
       "<style scoped>\n",
       "    .dataframe tbody tr th:only-of-type {\n",
       "        vertical-align: middle;\n",
       "    }\n",
       "\n",
       "    .dataframe tbody tr th {\n",
       "        vertical-align: top;\n",
       "    }\n",
       "\n",
       "    .dataframe thead th {\n",
       "        text-align: right;\n",
       "    }\n",
       "</style>\n",
       "<table border=\"1\" class=\"dataframe\">\n",
       "  <thead>\n",
       "    <tr style=\"text-align: right;\">\n",
       "      <th></th>\n",
       "      <th>Unnamed: 0</th>\n",
       "      <th>Name</th>\n",
       "      <th>Title</th>\n",
       "      <th>Domain</th>\n",
       "      <th>BreachDate</th>\n",
       "      <th>AddedDate</th>\n",
       "      <th>ModifiedDate</th>\n",
       "      <th>PwnCount</th>\n",
       "      <th>Description</th>\n",
       "      <th>LogoPath</th>\n",
       "      <th>DataClasses</th>\n",
       "      <th>IsVerified</th>\n",
       "      <th>IsFabricated</th>\n",
       "      <th>IsSensitive</th>\n",
       "      <th>IsRetired</th>\n",
       "      <th>IsSpamList</th>\n",
       "      <th>IsMalware</th>\n",
       "      <th>IsSubscriptionFree</th>\n",
       "    </tr>\n",
       "  </thead>\n",
       "  <tbody>\n",
       "    <tr>\n",
       "      <th>0</th>\n",
       "      <td>0</td>\n",
       "      <td>000webhost</td>\n",
       "      <td>000webhost</td>\n",
       "      <td>000webhost.com</td>\n",
       "      <td>2015-03-01</td>\n",
       "      <td>2015-10-26T23:35:45Z</td>\n",
       "      <td>2017-12-10T21:44:27Z</td>\n",
       "      <td>14936670</td>\n",
       "      <td>In approximately March 2015, the free web host...</td>\n",
       "      <td>https://haveibeenpwned.com/Content/Images/Pwne...</td>\n",
       "      <td>['Email addresses', 'IP addresses', 'Names', '...</td>\n",
       "      <td>True</td>\n",
       "      <td>False</td>\n",
       "      <td>False</td>\n",
       "      <td>False</td>\n",
       "      <td>False</td>\n",
       "      <td>False</td>\n",
       "      <td>False</td>\n",
       "    </tr>\n",
       "    <tr>\n",
       "      <th>1</th>\n",
       "      <td>1</td>\n",
       "      <td>123RF</td>\n",
       "      <td>123RF</td>\n",
       "      <td>123rf.com</td>\n",
       "      <td>2020-03-22</td>\n",
       "      <td>2020-11-15T00:59:50Z</td>\n",
       "      <td>2020-11-15T01:07:10Z</td>\n",
       "      <td>8661578</td>\n",
       "      <td>In March 2020, the stock photo site &lt;a href=\"h...</td>\n",
       "      <td>https://haveibeenpwned.com/Content/Images/Pwne...</td>\n",
       "      <td>['Email addresses', 'IP addresses', 'Names', '...</td>\n",
       "      <td>True</td>\n",
       "      <td>False</td>\n",
       "      <td>False</td>\n",
       "      <td>False</td>\n",
       "      <td>False</td>\n",
       "      <td>False</td>\n",
       "      <td>False</td>\n",
       "    </tr>\n",
       "    <tr>\n",
       "      <th>2</th>\n",
       "      <td>2</td>\n",
       "      <td>126</td>\n",
       "      <td>126</td>\n",
       "      <td>126.com</td>\n",
       "      <td>2012-01-01</td>\n",
       "      <td>2016-10-08T07:46:05Z</td>\n",
       "      <td>2016-10-08T07:46:05Z</td>\n",
       "      <td>6414191</td>\n",
       "      <td>In approximately 2012, it's alleged that the C...</td>\n",
       "      <td>https://haveibeenpwned.com/Content/Images/Pwne...</td>\n",
       "      <td>['Email addresses', 'Passwords']</td>\n",
       "      <td>False</td>\n",
       "      <td>False</td>\n",
       "      <td>False</td>\n",
       "      <td>False</td>\n",
       "      <td>False</td>\n",
       "      <td>False</td>\n",
       "      <td>False</td>\n",
       "    </tr>\n",
       "    <tr>\n",
       "      <th>3</th>\n",
       "      <td>3</td>\n",
       "      <td>17Media</td>\n",
       "      <td>17</td>\n",
       "      <td>17app.co</td>\n",
       "      <td>2016-04-19</td>\n",
       "      <td>2016-07-08T01:55:03Z</td>\n",
       "      <td>2016-07-08T01:55:03Z</td>\n",
       "      <td>4009640</td>\n",
       "      <td>In April 2016, customer data obtained from the...</td>\n",
       "      <td>https://haveibeenpwned.com/Content/Images/Pwne...</td>\n",
       "      <td>['Device information', 'Email addresses', 'IP ...</td>\n",
       "      <td>True</td>\n",
       "      <td>False</td>\n",
       "      <td>False</td>\n",
       "      <td>False</td>\n",
       "      <td>False</td>\n",
       "      <td>False</td>\n",
       "      <td>False</td>\n",
       "    </tr>\n",
       "    <tr>\n",
       "      <th>4</th>\n",
       "      <td>4</td>\n",
       "      <td>17173</td>\n",
       "      <td>17173</td>\n",
       "      <td>17173.com</td>\n",
       "      <td>2011-12-28</td>\n",
       "      <td>2018-04-28T04:53:15Z</td>\n",
       "      <td>2018-04-28T04:53:15Z</td>\n",
       "      <td>7485802</td>\n",
       "      <td>In late 2011, &lt;a href=\"https://news.softpedia....</td>\n",
       "      <td>https://haveibeenpwned.com/Content/Images/Pwne...</td>\n",
       "      <td>['Email addresses', 'Passwords', 'Usernames']</td>\n",
       "      <td>False</td>\n",
       "      <td>False</td>\n",
       "      <td>False</td>\n",
       "      <td>False</td>\n",
       "      <td>False</td>\n",
       "      <td>False</td>\n",
       "      <td>False</td>\n",
       "    </tr>\n",
       "  </tbody>\n",
       "</table>\n",
       "</div>"
      ],
      "text/plain": [
       "   Unnamed: 0        Name       Title          Domain  BreachDate  \\\n",
       "0           0  000webhost  000webhost  000webhost.com  2015-03-01   \n",
       "1           1       123RF       123RF       123rf.com  2020-03-22   \n",
       "2           2         126         126         126.com  2012-01-01   \n",
       "3           3     17Media          17        17app.co  2016-04-19   \n",
       "4           4       17173       17173       17173.com  2011-12-28   \n",
       "\n",
       "              AddedDate          ModifiedDate  PwnCount  \\\n",
       "0  2015-10-26T23:35:45Z  2017-12-10T21:44:27Z  14936670   \n",
       "1  2020-11-15T00:59:50Z  2020-11-15T01:07:10Z   8661578   \n",
       "2  2016-10-08T07:46:05Z  2016-10-08T07:46:05Z   6414191   \n",
       "3  2016-07-08T01:55:03Z  2016-07-08T01:55:03Z   4009640   \n",
       "4  2018-04-28T04:53:15Z  2018-04-28T04:53:15Z   7485802   \n",
       "\n",
       "                                         Description  \\\n",
       "0  In approximately March 2015, the free web host...   \n",
       "1  In March 2020, the stock photo site <a href=\"h...   \n",
       "2  In approximately 2012, it's alleged that the C...   \n",
       "3  In April 2016, customer data obtained from the...   \n",
       "4  In late 2011, <a href=\"https://news.softpedia....   \n",
       "\n",
       "                                            LogoPath  \\\n",
       "0  https://haveibeenpwned.com/Content/Images/Pwne...   \n",
       "1  https://haveibeenpwned.com/Content/Images/Pwne...   \n",
       "2  https://haveibeenpwned.com/Content/Images/Pwne...   \n",
       "3  https://haveibeenpwned.com/Content/Images/Pwne...   \n",
       "4  https://haveibeenpwned.com/Content/Images/Pwne...   \n",
       "\n",
       "                                         DataClasses  IsVerified  \\\n",
       "0  ['Email addresses', 'IP addresses', 'Names', '...        True   \n",
       "1  ['Email addresses', 'IP addresses', 'Names', '...        True   \n",
       "2                   ['Email addresses', 'Passwords']       False   \n",
       "3  ['Device information', 'Email addresses', 'IP ...        True   \n",
       "4      ['Email addresses', 'Passwords', 'Usernames']       False   \n",
       "\n",
       "   IsFabricated  IsSensitive  IsRetired  IsSpamList  IsMalware  \\\n",
       "0         False        False      False       False      False   \n",
       "1         False        False      False       False      False   \n",
       "2         False        False      False       False      False   \n",
       "3         False        False      False       False      False   \n",
       "4         False        False      False       False      False   \n",
       "\n",
       "   IsSubscriptionFree  \n",
       "0               False  \n",
       "1               False  \n",
       "2               False  \n",
       "3               False  \n",
       "4               False  "
      ]
     },
     "execution_count": 14,
     "metadata": {},
     "output_type": "execute_result"
    }
   ],
   "source": [
    "df.head()"
   ]
  },
  {
   "cell_type": "code",
   "execution_count": 15,
   "id": "92af1eec",
   "metadata": {},
   "outputs": [],
   "source": [
    "# Rename first column\n",
    "df = df.rename(columns={'Unnamed: 0': 'Record'})"
   ]
  },
  {
   "cell_type": "markdown",
   "id": "56a49220",
   "metadata": {},
   "source": [
    "#### Shape of the dataset"
   ]
  },
  {
   "cell_type": "code",
   "execution_count": 16,
   "id": "417e5820",
   "metadata": {},
   "outputs": [
    {
     "data": {
      "text/plain": [
       "(777, 18)"
      ]
     },
     "execution_count": 16,
     "metadata": {},
     "output_type": "execute_result"
    }
   ],
   "source": [
    "df.shape"
   ]
  },
  {
   "cell_type": "markdown",
   "id": "041aa39d",
   "metadata": {},
   "source": [
    "### 2.2 Dataset information"
   ]
  },
  {
   "cell_type": "markdown",
   "id": "7e3cff9d",
   "metadata": {},
   "source": [
    "-  Name : The name of the breached entity.\n",
    "-  Title : A brief title or label for the breach.\n",
    "-  Domain : The domain name associated with the breach (if available).\n",
    "-  BreachDate : The date when the breach occurred.\n",
    "-  AddedDate : The date when the breach was added to the database.\n",
    "-  ModifiedDat : The date when the breach data was last modified.\n",
    "-  PwnCount : The number of accounts impacted by the breach.\n",
    "-  Description : A description of the breach.\n",
    "-  LogoPath : The path to the logo associated with the breached entity.\n",
    "- IsVerified : A boolean indicating whether the data breach has been verified.\n",
    "- IsFabricated : A boolean indicating whether the data has been fabricated.\n",
    "- IsSensitive : A boolean indicating whether the data is sensitive.\n",
    "- IsRetired : A boolean indicating whether the data is retired.\n",
    "- IsSpamList : A boolean indicating whether the data is part of a spam list.\n",
    "- IsMalware : A boolean indicating whether the data includes malware.\n",
    "- IsSubscriptionFree : A boolean indicating whether the service is subscription-free."
   ]
  },
  {
   "cell_type": "markdown",
   "id": "27c4b61b",
   "metadata": {},
   "source": [
    "### 3. Data Checks to perform\n",
    "\n",
    "- Check Missing values\n",
    "- Check Duplicates\n",
    "- Check data type\n",
    "- Check the number of unique values of each column\n",
    "- Check statistics of data set\n",
    "- Check various categories present in the different categorical column"
   ]
  },
  {
   "cell_type": "markdown",
   "id": "c31d4123",
   "metadata": {},
   "source": [
    "### 3.1 Check Missing values"
   ]
  },
  {
   "cell_type": "code",
   "execution_count": 17,
   "id": "707d6a7b",
   "metadata": {},
   "outputs": [
    {
     "data": {
      "text/plain": [
       "Record                 0\n",
       "Name                   0\n",
       "Title                  0\n",
       "Domain                38\n",
       "BreachDate             0\n",
       "AddedDate              0\n",
       "ModifiedDate           0\n",
       "PwnCount               0\n",
       "Description            0\n",
       "LogoPath               0\n",
       "DataClasses            0\n",
       "IsVerified             0\n",
       "IsFabricated           0\n",
       "IsSensitive            0\n",
       "IsRetired              0\n",
       "IsSpamList             0\n",
       "IsMalware              0\n",
       "IsSubscriptionFree     0\n",
       "dtype: int64"
      ]
     },
     "execution_count": 17,
     "metadata": {},
     "output_type": "execute_result"
    }
   ],
   "source": [
    "df.isna().sum()"
   ]
  },
  {
   "cell_type": "markdown",
   "id": "5840ff7f",
   "metadata": {},
   "source": [
    "### 3.2 Check Duplicates"
   ]
  },
  {
   "cell_type": "code",
   "execution_count": 18,
   "id": "ae16686e",
   "metadata": {},
   "outputs": [
    {
     "data": {
      "text/plain": [
       "0"
      ]
     },
     "execution_count": 18,
     "metadata": {},
     "output_type": "execute_result"
    }
   ],
   "source": [
    "df.duplicated().sum()"
   ]
  },
  {
   "cell_type": "markdown",
   "id": "e5d7ae8e",
   "metadata": {},
   "source": [
    "#### There are no duplicates  values in the data set"
   ]
  },
  {
   "cell_type": "markdown",
   "id": "30dfacc8",
   "metadata": {},
   "source": [
    "### 3.3 Check data types"
   ]
  },
  {
   "cell_type": "code",
   "execution_count": 19,
   "id": "25f95bc8",
   "metadata": {},
   "outputs": [
    {
     "name": "stdout",
     "output_type": "stream",
     "text": [
      "<class 'pandas.core.frame.DataFrame'>\n",
      "RangeIndex: 777 entries, 0 to 776\n",
      "Data columns (total 18 columns):\n",
      " #   Column              Non-Null Count  Dtype \n",
      "---  ------              --------------  ----- \n",
      " 0   Record              777 non-null    int64 \n",
      " 1   Name                777 non-null    object\n",
      " 2   Title               777 non-null    object\n",
      " 3   Domain              739 non-null    object\n",
      " 4   BreachDate          777 non-null    object\n",
      " 5   AddedDate           777 non-null    object\n",
      " 6   ModifiedDate        777 non-null    object\n",
      " 7   PwnCount            777 non-null    int64 \n",
      " 8   Description         777 non-null    object\n",
      " 9   LogoPath            777 non-null    object\n",
      " 10  DataClasses         777 non-null    object\n",
      " 11  IsVerified          777 non-null    bool  \n",
      " 12  IsFabricated        777 non-null    bool  \n",
      " 13  IsSensitive         777 non-null    bool  \n",
      " 14  IsRetired           777 non-null    bool  \n",
      " 15  IsSpamList          777 non-null    bool  \n",
      " 16  IsMalware           777 non-null    bool  \n",
      " 17  IsSubscriptionFree  777 non-null    bool  \n",
      "dtypes: bool(7), int64(2), object(9)\n",
      "memory usage: 72.2+ KB\n"
     ]
    }
   ],
   "source": [
    "# Check Null and Dtypes\n",
    "df.info()"
   ]
  },
  {
   "cell_type": "markdown",
   "id": "0dbbf5b4",
   "metadata": {},
   "source": [
    "### 3.4 Checking the number of unique values of each column"
   ]
  },
  {
   "cell_type": "code",
   "execution_count": 20,
   "id": "2c2b61b6",
   "metadata": {},
   "outputs": [
    {
     "data": {
      "text/plain": [
       "Record                777\n",
       "Name                  777\n",
       "Title                 777\n",
       "Domain                720\n",
       "BreachDate            650\n",
       "AddedDate             773\n",
       "ModifiedDate          768\n",
       "PwnCount              776\n",
       "Description           777\n",
       "LogoPath              717\n",
       "DataClasses           401\n",
       "IsVerified              2\n",
       "IsFabricated            2\n",
       "IsSensitive             2\n",
       "IsRetired               2\n",
       "IsSpamList              2\n",
       "IsMalware               2\n",
       "IsSubscriptionFree      2\n",
       "dtype: int64"
      ]
     },
     "execution_count": 20,
     "metadata": {},
     "output_type": "execute_result"
    }
   ],
   "source": [
    "df.nunique()"
   ]
  },
  {
   "cell_type": "markdown",
   "id": "a4f6b022",
   "metadata": {},
   "source": [
    "### 3.5 Check statistics of data set"
   ]
  },
  {
   "cell_type": "code",
   "execution_count": 9,
   "id": "225f0e24",
   "metadata": {},
   "outputs": [
    {
     "ename": "AttributeError",
     "evalue": "Can only use .dt accessor with datetimelike values",
     "output_type": "error",
     "traceback": [
      "\u001b[1;31m---------------------------------------------------------------------------\u001b[0m",
      "\u001b[1;31mAttributeError\u001b[0m                            Traceback (most recent call last)",
      "\u001b[1;32mc:\\MyInfo\\fifthwall_cyber_loss_estimation\\notebooks\\eda.ipynb Cell 26\u001b[0m line \u001b[0;36m8\n\u001b[0;32m      <a href='vscode-notebook-cell:/c%3A/MyInfo/fifthwall_cyber_loss_estimation/notebooks/eda.ipynb#Y165sZmlsZQ%3D%3D?line=0'>1</a>\u001b[0m \u001b[39m#    - **Quantitative Variables:** `PwnCount`\u001b[39;00m\n\u001b[0;32m      <a href='vscode-notebook-cell:/c%3A/MyInfo/fifthwall_cyber_loss_estimation/notebooks/eda.ipynb#Y165sZmlsZQ%3D%3D?line=1'>2</a>\u001b[0m \u001b[39m#    - **Categorical Variables:** `IsVerified`, `IsFabricated`, `IsSensitive`, `IsRetired`, `IsSpamList`, `IsMalware`, `IsSubscriptionFree`\u001b[39;00m\n\u001b[0;32m      <a href='vscode-notebook-cell:/c%3A/MyInfo/fifthwall_cyber_loss_estimation/notebooks/eda.ipynb#Y165sZmlsZQ%3D%3D?line=2'>3</a>\u001b[0m \u001b[39m#    - **Date Variables:** `BreachDate`, `AddedDate`, `ModifiedDate`\u001b[39;00m\n\u001b[1;32m   (...)\u001b[0m\n\u001b[0;32m      <a href='vscode-notebook-cell:/c%3A/MyInfo/fifthwall_cyber_loss_estimation/notebooks/eda.ipynb#Y165sZmlsZQ%3D%3D?line=5'>6</a>\u001b[0m \n\u001b[0;32m      <a href='vscode-notebook-cell:/c%3A/MyInfo/fifthwall_cyber_loss_estimation/notebooks/eda.ipynb#Y165sZmlsZQ%3D%3D?line=6'>7</a>\u001b[0m \u001b[39m# Convert to timezone-aware datetime\u001b[39;00m\n\u001b[1;32m----> <a href='vscode-notebook-cell:/c%3A/MyInfo/fifthwall_cyber_loss_estimation/notebooks/eda.ipynb#Y165sZmlsZQ%3D%3D?line=7'>8</a>\u001b[0m df[\u001b[39m'\u001b[39m\u001b[39mAddedDate\u001b[39m\u001b[39m'\u001b[39m] \u001b[39m=\u001b[39m df[\u001b[39m'\u001b[39;49m\u001b[39mAddedDate\u001b[39;49m\u001b[39m'\u001b[39;49m]\u001b[39m.\u001b[39;49mdt\u001b[39m.\u001b[39mtz_convert(\u001b[39m'\u001b[39m\u001b[39mUTC\u001b[39m\u001b[39m'\u001b[39m)\n\u001b[0;32m     <a href='vscode-notebook-cell:/c%3A/MyInfo/fifthwall_cyber_loss_estimation/notebooks/eda.ipynb#Y165sZmlsZQ%3D%3D?line=9'>10</a>\u001b[0m \u001b[39m# Cast variables\u001b[39;00m\n\u001b[0;32m     <a href='vscode-notebook-cell:/c%3A/MyInfo/fifthwall_cyber_loss_estimation/notebooks/eda.ipynb#Y165sZmlsZQ%3D%3D?line=10'>11</a>\u001b[0m cast_dict \u001b[39m=\u001b[39m {\n\u001b[0;32m     <a href='vscode-notebook-cell:/c%3A/MyInfo/fifthwall_cyber_loss_estimation/notebooks/eda.ipynb#Y165sZmlsZQ%3D%3D?line=11'>12</a>\u001b[0m     \u001b[39m'\u001b[39m\u001b[39mPwnCount\u001b[39m\u001b[39m'\u001b[39m: \u001b[39m'\u001b[39m\u001b[39mint64\u001b[39m\u001b[39m'\u001b[39m,\n\u001b[0;32m     <a href='vscode-notebook-cell:/c%3A/MyInfo/fifthwall_cyber_loss_estimation/notebooks/eda.ipynb#Y165sZmlsZQ%3D%3D?line=12'>13</a>\u001b[0m     \u001b[39m'\u001b[39m\u001b[39mIsVerified\u001b[39m\u001b[39m'\u001b[39m: \u001b[39m'\u001b[39m\u001b[39mcategory\u001b[39m\u001b[39m'\u001b[39m,\n\u001b[1;32m   (...)\u001b[0m\n\u001b[0;32m     <a href='vscode-notebook-cell:/c%3A/MyInfo/fifthwall_cyber_loss_estimation/notebooks/eda.ipynb#Y165sZmlsZQ%3D%3D?line=21'>22</a>\u001b[0m     \u001b[39m'\u001b[39m\u001b[39mModifiedDate\u001b[39m\u001b[39m'\u001b[39m: \u001b[39m'\u001b[39m\u001b[39mdatetime64[ns, UTC]\u001b[39m\u001b[39m'\u001b[39m  \u001b[39m# Specify timezone-aware dtype\u001b[39;00m\n\u001b[0;32m     <a href='vscode-notebook-cell:/c%3A/MyInfo/fifthwall_cyber_loss_estimation/notebooks/eda.ipynb#Y165sZmlsZQ%3D%3D?line=22'>23</a>\u001b[0m }\n",
      "File \u001b[1;32mc:\\MyInfo\\fifthwall_cyber_loss_estimation\\.venv\\lib\\site-packages\\pandas\\core\\generic.py:6296\u001b[0m, in \u001b[0;36mNDFrame.__getattr__\u001b[1;34m(self, name)\u001b[0m\n\u001b[0;32m   6289\u001b[0m \u001b[39mif\u001b[39;00m (\n\u001b[0;32m   6290\u001b[0m     name \u001b[39mnot\u001b[39;00m \u001b[39min\u001b[39;00m \u001b[39mself\u001b[39m\u001b[39m.\u001b[39m_internal_names_set\n\u001b[0;32m   6291\u001b[0m     \u001b[39mand\u001b[39;00m name \u001b[39mnot\u001b[39;00m \u001b[39min\u001b[39;00m \u001b[39mself\u001b[39m\u001b[39m.\u001b[39m_metadata\n\u001b[0;32m   6292\u001b[0m     \u001b[39mand\u001b[39;00m name \u001b[39mnot\u001b[39;00m \u001b[39min\u001b[39;00m \u001b[39mself\u001b[39m\u001b[39m.\u001b[39m_accessors\n\u001b[0;32m   6293\u001b[0m     \u001b[39mand\u001b[39;00m \u001b[39mself\u001b[39m\u001b[39m.\u001b[39m_info_axis\u001b[39m.\u001b[39m_can_hold_identifiers_and_holds_name(name)\n\u001b[0;32m   6294\u001b[0m ):\n\u001b[0;32m   6295\u001b[0m     \u001b[39mreturn\u001b[39;00m \u001b[39mself\u001b[39m[name]\n\u001b[1;32m-> 6296\u001b[0m \u001b[39mreturn\u001b[39;00m \u001b[39mobject\u001b[39;49m\u001b[39m.\u001b[39;49m\u001b[39m__getattribute__\u001b[39;49m(\u001b[39mself\u001b[39;49m, name)\n",
      "File \u001b[1;32mc:\\MyInfo\\fifthwall_cyber_loss_estimation\\.venv\\lib\\site-packages\\pandas\\core\\accessor.py:224\u001b[0m, in \u001b[0;36mCachedAccessor.__get__\u001b[1;34m(self, obj, cls)\u001b[0m\n\u001b[0;32m    221\u001b[0m \u001b[39mif\u001b[39;00m obj \u001b[39mis\u001b[39;00m \u001b[39mNone\u001b[39;00m:\n\u001b[0;32m    222\u001b[0m     \u001b[39m# we're accessing the attribute of the class, i.e., Dataset.geo\u001b[39;00m\n\u001b[0;32m    223\u001b[0m     \u001b[39mreturn\u001b[39;00m \u001b[39mself\u001b[39m\u001b[39m.\u001b[39m_accessor\n\u001b[1;32m--> 224\u001b[0m accessor_obj \u001b[39m=\u001b[39m \u001b[39mself\u001b[39;49m\u001b[39m.\u001b[39;49m_accessor(obj)\n\u001b[0;32m    225\u001b[0m \u001b[39m# Replace the property with the accessor object. Inspired by:\u001b[39;00m\n\u001b[0;32m    226\u001b[0m \u001b[39m# https://www.pydanny.com/cached-property.html\u001b[39;00m\n\u001b[0;32m    227\u001b[0m \u001b[39m# We need to use object.__setattr__ because we overwrite __setattr__ on\u001b[39;00m\n\u001b[0;32m    228\u001b[0m \u001b[39m# NDFrame\u001b[39;00m\n\u001b[0;32m    229\u001b[0m \u001b[39mobject\u001b[39m\u001b[39m.\u001b[39m\u001b[39m__setattr__\u001b[39m(obj, \u001b[39mself\u001b[39m\u001b[39m.\u001b[39m_name, accessor_obj)\n",
      "File \u001b[1;32mc:\\MyInfo\\fifthwall_cyber_loss_estimation\\.venv\\lib\\site-packages\\pandas\\core\\indexes\\accessors.py:643\u001b[0m, in \u001b[0;36mCombinedDatetimelikeProperties.__new__\u001b[1;34m(cls, data)\u001b[0m\n\u001b[0;32m    640\u001b[0m \u001b[39melif\u001b[39;00m \u001b[39misinstance\u001b[39m(data\u001b[39m.\u001b[39mdtype, PeriodDtype):\n\u001b[0;32m    641\u001b[0m     \u001b[39mreturn\u001b[39;00m PeriodProperties(data, orig)\n\u001b[1;32m--> 643\u001b[0m \u001b[39mraise\u001b[39;00m \u001b[39mAttributeError\u001b[39;00m(\u001b[39m\"\u001b[39m\u001b[39mCan only use .dt accessor with datetimelike values\u001b[39m\u001b[39m\"\u001b[39m)\n",
      "\u001b[1;31mAttributeError\u001b[0m: Can only use .dt accessor with datetimelike values"
     ]
    }
   ],
   "source": [
    "#    - **Quantitative Variables:** `PwnCount`\n",
    "#    - **Categorical Variables:** `IsVerified`, `IsFabricated`, `IsSensitive`, `IsRetired`, `IsSpamList`, `IsMalware`, `IsSubscriptionFree`\n",
    "#    - **Date Variables:** `BreachDate`, `AddedDate`, `ModifiedDate`\n",
    "#    - **Text Variables:** `Name`, `Title`, `Domain`, `Description`\n",
    "#    - **Path Variables:** `LogoPath`\n",
    "\n",
    "# Convert to timezone-aware datetime\n",
    "df['AddedDate'] = df['AddedDate'].dt.tz_convert('UTC')\n",
    "\n",
    "# Cast variables\n",
    "cast_dict = {\n",
    "    'PwnCount': 'int64',\n",
    "    'IsVerified': 'category',\n",
    "    'IsFabricated': 'category',\n",
    "    'IsSensitive': 'category',\n",
    "    'IsRetired': 'category',\n",
    "    'IsSpamList': 'category',\n",
    "    'IsMalware': 'category',\n",
    "    'IsSubscriptionFree': 'category',\n",
    "    'BreachDate': 'datetime64[ns, UTC]',  # Specify timezone-aware dtype\n",
    "    'AddedDate': 'datetime64[ns, UTC]',    # Specify timezone-aware dtype\n",
    "    'ModifiedDate': 'datetime64[ns, UTC]'  # Specify timezone-aware dtype\n",
    "}\n",
    "df = df.astype(cast_dict)"
   ]
  },
  {
   "cell_type": "code",
   "execution_count": 21,
   "id": "76c608dc",
   "metadata": {},
   "outputs": [
    {
     "data": {
      "text/html": [
       "<div>\n",
       "<style scoped>\n",
       "    .dataframe tbody tr th:only-of-type {\n",
       "        vertical-align: middle;\n",
       "    }\n",
       "\n",
       "    .dataframe tbody tr th {\n",
       "        vertical-align: top;\n",
       "    }\n",
       "\n",
       "    .dataframe thead th {\n",
       "        text-align: right;\n",
       "    }\n",
       "</style>\n",
       "<table border=\"1\" class=\"dataframe\">\n",
       "  <thead>\n",
       "    <tr style=\"text-align: right;\">\n",
       "      <th></th>\n",
       "      <th>Record</th>\n",
       "      <th>PwnCount</th>\n",
       "    </tr>\n",
       "  </thead>\n",
       "  <tbody>\n",
       "    <tr>\n",
       "      <th>count</th>\n",
       "      <td>777.000000</td>\n",
       "      <td>7.770000e+02</td>\n",
       "    </tr>\n",
       "    <tr>\n",
       "      <th>mean</th>\n",
       "      <td>388.000000</td>\n",
       "      <td>1.739676e+07</td>\n",
       "    </tr>\n",
       "    <tr>\n",
       "      <th>std</th>\n",
       "      <td>224.444871</td>\n",
       "      <td>7.006886e+07</td>\n",
       "    </tr>\n",
       "    <tr>\n",
       "      <th>min</th>\n",
       "      <td>0.000000</td>\n",
       "      <td>8.580000e+02</td>\n",
       "    </tr>\n",
       "    <tr>\n",
       "      <th>25%</th>\n",
       "      <td>194.000000</td>\n",
       "      <td>2.695520e+05</td>\n",
       "    </tr>\n",
       "    <tr>\n",
       "      <th>50%</th>\n",
       "      <td>388.000000</td>\n",
       "      <td>1.141278e+06</td>\n",
       "    </tr>\n",
       "    <tr>\n",
       "      <th>75%</th>\n",
       "      <td>582.000000</td>\n",
       "      <td>5.970416e+06</td>\n",
       "    </tr>\n",
       "    <tr>\n",
       "      <th>max</th>\n",
       "      <td>776.000000</td>\n",
       "      <td>7.729050e+08</td>\n",
       "    </tr>\n",
       "  </tbody>\n",
       "</table>\n",
       "</div>"
      ],
      "text/plain": [
       "           Record      PwnCount\n",
       "count  777.000000  7.770000e+02\n",
       "mean   388.000000  1.739676e+07\n",
       "std    224.444871  7.006886e+07\n",
       "min      0.000000  8.580000e+02\n",
       "25%    194.000000  2.695520e+05\n",
       "50%    388.000000  1.141278e+06\n",
       "75%    582.000000  5.970416e+06\n",
       "max    776.000000  7.729050e+08"
      ]
     },
     "execution_count": 21,
     "metadata": {},
     "output_type": "execute_result"
    }
   ],
   "source": [
    "df.describe()"
   ]
  },
  {
   "cell_type": "markdown",
   "id": "d269bc6b",
   "metadata": {},
   "source": [
    "## 4. Processing"
   ]
  },
  {
   "cell_type": "code",
   "execution_count": 22,
   "id": "a2158d68",
   "metadata": {},
   "outputs": [],
   "source": [
    "# Define method to calculate the estimated financial loss\n",
    "def estimate_financial_loss(row):\n",
    "    base_cost_per_account = 1  # Fictitious base cost per account\n",
    "    sensitivity_multiplier = 1.5 if row[\"IsSensitive\"] else 1\n",
    "    malware_multiplier = 2 if row[\"IsMalware\"] else 1\n",
    "    verification_multiplier = 1 if row[\"IsVerified\"] else 0.8\n",
    "\n",
    "    # Calculate estimated loss\n",
    "    estimated_loss = (\n",
    "        row[\"PwnCount\"]\n",
    "        * base_cost_per_account\n",
    "        * sensitivity_multiplier\n",
    "        * malware_multiplier\n",
    "        * verification_multiplier\n",
    "    )\n",
    "\n",
    "    # Add hypothetical legal/PR costs\n",
    "    legal_pr_cost = 500  # Arbitrary fixed cost\n",
    "\n",
    "    estimated_loss += legal_pr_cost\n",
    "\n",
    "    return estimated_loss\n",
    "\n",
    "\n",
    "# Apply the function to the dataset\n",
    "df[\"financial_estimated_loss\"] = df.apply(estimate_financial_loss, axis=1)"
   ]
  },
  {
   "cell_type": "code",
   "execution_count": 23,
   "id": "3d41ccb3",
   "metadata": {},
   "outputs": [],
   "source": [
    "# Save cleaned data\n",
    "df.to_csv('./data/breached_services_info.csv', index=False)"
   ]
  },
  {
   "cell_type": "code",
   "execution_count": null,
   "id": "74c4cdb2",
   "metadata": {},
   "outputs": [],
   "source": [
    "# TODO - Add more EDA for better data understanding"
   ]
  }
 ],
 "metadata": {
  "kernelspec": {
   "display_name": "venv",
   "language": "python",
   "name": "python3"
  },
  "language_info": {
   "codemirror_mode": {
    "name": "ipython",
    "version": 3
   },
   "file_extension": ".py",
   "mimetype": "text/x-python",
   "name": "python",
   "nbconvert_exporter": "python",
   "pygments_lexer": "ipython3",
   "version": "3.10.4"
  },
  "vscode": {
   "interpreter": {
    "hash": "169d5636284edc7e68c8cd8c55e2567d4fe61c86b203b0f6fb92a32971b3cbb9"
   }
  }
 },
 "nbformat": 4,
 "nbformat_minor": 5
}
